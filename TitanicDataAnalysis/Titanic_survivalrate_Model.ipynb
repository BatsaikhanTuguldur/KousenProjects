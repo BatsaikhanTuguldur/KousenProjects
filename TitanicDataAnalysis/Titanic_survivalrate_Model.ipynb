{
  "nbformat": 4,
  "nbformat_minor": 0,
  "metadata": {
    "kernelspec": {
      "language": "python",
      "display_name": "Python 3",
      "name": "python3"
    },
    "language_info": {
      "name": "python",
      "version": "3.7.10",
      "mimetype": "text/x-python",
      "codemirror_mode": {
        "name": "ipython",
        "version": 3
      },
      "pygments_lexer": "ipython3",
      "nbconvert_exporter": "python",
      "file_extension": ".py"
    },
    "colab": {
      "provenance": [],
      "include_colab_link": true
    }
  },
  "cells": [
    {
      "cell_type": "markdown",
      "metadata": {
        "id": "view-in-github",
        "colab_type": "text"
      },
      "source": [
        "<a href=\"https://colab.research.google.com/github/BatsaikhanTuguldur/KousenProjects/blob/main/Titanic_survivalrate_Model.ipynb\" target=\"_parent\"><img src=\"https://colab.research.google.com/assets/colab-badge.svg\" alt=\"Open In Colab\"/></a>"
      ]
    },
    {
      "cell_type": "markdown",
      "metadata": {
        "id": "lrKPYYz0KgT5"
      },
      "source": [
        "# 4J 38 　　f20301\n",
        "\n",
        "# バトサイハントゥグレデル"
      ]
    },
    {
      "cell_type": "code",
      "metadata": {
        "execution": {
          "iopub.status.busy": "2021-07-25T14:23:52.605625Z",
          "iopub.execute_input": "2021-07-25T14:23:52.60607Z",
          "iopub.status.idle": "2021-07-25T14:23:52.619469Z",
          "shell.execute_reply.started": "2021-07-25T14:23:52.606034Z",
          "shell.execute_reply": "2021-07-25T14:23:52.618181Z"
        },
        "trusted": true,
        "id": "6jwCWfFaKgT7"
      },
      "source": [
        "# This Python 3 environment comes with many helpful analytics libraries installed\n",
        "# It is defined by the kaggle/python Docker image: https://github.com/kaggle/docker-python\n",
        "# For example, here's several helpful packages to load\n",
        "\n",
        "import numpy as np # linear algebra\n",
        "import pandas as pd # data processing, CSV file I/O (e.g. pd.read_csv)\n",
        "\n",
        "# Input data files are available in the read-only \"../input/\" directory\n",
        "# For example, running this (by clicking run or pressing Shift+Enter) will list all files under the input directory\n",
        "\n",
        "import os\n",
        "for dirname, _, filenames in os.walk('/kaggle/input'):\n",
        "    for filename in filenames:\n",
        "        print(os.path.join(dirname, filename))\n",
        "\n",
        "\n",
        "# data visualization\n",
        "import seaborn as sns\n",
        "\n",
        "\n",
        "# Algorithms\n",
        "from sklearn import linear_model\n",
        "from sklearn.ensemble import RandomForestClassifier\n",
        "\n",
        "from sklearn import linear_model\n",
        "from sklearn.linear_model import LogisticRegression\n",
        "from sklearn.ensemble import RandomForestClassifier\n",
        "from sklearn.linear_model import Perceptron\n",
        "from sklearn.linear_model import SGDClassifier\n",
        "from sklearn.tree import DecisionTreeClassifier\n",
        "from sklearn.neighbors import KNeighborsClassifier\n",
        "from sklearn.svm import SVC, LinearSVC\n",
        "from sklearn.naive_bayes import GaussianNB\n"
      ],
      "execution_count": null,
      "outputs": []
    },
    {
      "cell_type": "code",
      "metadata": {
        "execution": {
          "iopub.status.busy": "2021-07-25T14:23:52.621202Z",
          "iopub.execute_input": "2021-07-25T14:23:52.6216Z",
          "iopub.status.idle": "2021-07-25T14:23:52.692724Z",
          "shell.execute_reply.started": "2021-07-25T14:23:52.621562Z",
          "shell.execute_reply": "2021-07-25T14:23:52.6918Z"
        },
        "trusted": true,
        "colab": {
          "base_uri": "https://localhost:8080/",
          "height": 393
        },
        "id": "RacnU2h_KgT8",
        "outputId": "4bce4cce-f2a3-45af-bc51-e5bd68d52106"
      },
      "source": [
        "train_df = pd.read_csv(\"../input/titanic/train.csv\")\n",
        "test_df = pd.read_csv(\"../input/titanic/test.csv\")\n",
        "#df_submission = pd.read_csv(\"../input/titanic/gender_submission.csv\")\n",
        "#df_submission.to_csv('submission.csv', index=False)\n",
        "train_df.info() #table1\n",
        "print(train_df.describe()) #table2\n",
        "train_df.head() #table3"
      ],
      "execution_count": null,
      "outputs": [
        {
          "output_type": "error",
          "ename": "FileNotFoundError",
          "evalue": "ignored",
          "traceback": [
            "\u001b[0;31m---------------------------------------------------------------------------\u001b[0m",
            "\u001b[0;31mFileNotFoundError\u001b[0m                         Traceback (most recent call last)",
            "\u001b[0;32m<ipython-input-3-7e377b6dfdb2>\u001b[0m in \u001b[0;36m<cell line: 1>\u001b[0;34m()\u001b[0m\n\u001b[0;32m----> 1\u001b[0;31m \u001b[0mtrain_df\u001b[0m \u001b[0;34m=\u001b[0m \u001b[0mpd\u001b[0m\u001b[0;34m.\u001b[0m\u001b[0mread_csv\u001b[0m\u001b[0;34m(\u001b[0m\u001b[0;34m\"../input/titanic/train.csv\"\u001b[0m\u001b[0;34m)\u001b[0m\u001b[0;34m\u001b[0m\u001b[0;34m\u001b[0m\u001b[0m\n\u001b[0m\u001b[1;32m      2\u001b[0m \u001b[0mtest_df\u001b[0m \u001b[0;34m=\u001b[0m \u001b[0mpd\u001b[0m\u001b[0;34m.\u001b[0m\u001b[0mread_csv\u001b[0m\u001b[0;34m(\u001b[0m\u001b[0;34m\"../input/titanic/test.csv\"\u001b[0m\u001b[0;34m)\u001b[0m\u001b[0;34m\u001b[0m\u001b[0;34m\u001b[0m\u001b[0m\n\u001b[1;32m      3\u001b[0m \u001b[0;31m#df_submission = pd.read_csv(\"../input/titanic/gender_submission.csv\")\u001b[0m\u001b[0;34m\u001b[0m\u001b[0;34m\u001b[0m\u001b[0m\n\u001b[1;32m      4\u001b[0m \u001b[0;31m#df_submission.to_csv('submission.csv', index=False)\u001b[0m\u001b[0;34m\u001b[0m\u001b[0;34m\u001b[0m\u001b[0m\n\u001b[1;32m      5\u001b[0m \u001b[0mtrain_df\u001b[0m\u001b[0;34m.\u001b[0m\u001b[0minfo\u001b[0m\u001b[0;34m(\u001b[0m\u001b[0;34m)\u001b[0m \u001b[0;31m#table1\u001b[0m\u001b[0;34m\u001b[0m\u001b[0;34m\u001b[0m\u001b[0m\n",
            "\u001b[0;32m/usr/local/lib/python3.10/dist-packages/pandas/util/_decorators.py\u001b[0m in \u001b[0;36mwrapper\u001b[0;34m(*args, **kwargs)\u001b[0m\n\u001b[1;32m    209\u001b[0m                 \u001b[0;32melse\u001b[0m\u001b[0;34m:\u001b[0m\u001b[0;34m\u001b[0m\u001b[0;34m\u001b[0m\u001b[0m\n\u001b[1;32m    210\u001b[0m                     \u001b[0mkwargs\u001b[0m\u001b[0;34m[\u001b[0m\u001b[0mnew_arg_name\u001b[0m\u001b[0;34m]\u001b[0m \u001b[0;34m=\u001b[0m \u001b[0mnew_arg_value\u001b[0m\u001b[0;34m\u001b[0m\u001b[0;34m\u001b[0m\u001b[0m\n\u001b[0;32m--> 211\u001b[0;31m             \u001b[0;32mreturn\u001b[0m \u001b[0mfunc\u001b[0m\u001b[0;34m(\u001b[0m\u001b[0;34m*\u001b[0m\u001b[0margs\u001b[0m\u001b[0;34m,\u001b[0m \u001b[0;34m**\u001b[0m\u001b[0mkwargs\u001b[0m\u001b[0;34m)\u001b[0m\u001b[0;34m\u001b[0m\u001b[0;34m\u001b[0m\u001b[0m\n\u001b[0m\u001b[1;32m    212\u001b[0m \u001b[0;34m\u001b[0m\u001b[0m\n\u001b[1;32m    213\u001b[0m         \u001b[0;32mreturn\u001b[0m \u001b[0mcast\u001b[0m\u001b[0;34m(\u001b[0m\u001b[0mF\u001b[0m\u001b[0;34m,\u001b[0m \u001b[0mwrapper\u001b[0m\u001b[0;34m)\u001b[0m\u001b[0;34m\u001b[0m\u001b[0;34m\u001b[0m\u001b[0m\n",
            "\u001b[0;32m/usr/local/lib/python3.10/dist-packages/pandas/util/_decorators.py\u001b[0m in \u001b[0;36mwrapper\u001b[0;34m(*args, **kwargs)\u001b[0m\n\u001b[1;32m    329\u001b[0m                     \u001b[0mstacklevel\u001b[0m\u001b[0;34m=\u001b[0m\u001b[0mfind_stack_level\u001b[0m\u001b[0;34m(\u001b[0m\u001b[0;34m)\u001b[0m\u001b[0;34m,\u001b[0m\u001b[0;34m\u001b[0m\u001b[0;34m\u001b[0m\u001b[0m\n\u001b[1;32m    330\u001b[0m                 )\n\u001b[0;32m--> 331\u001b[0;31m             \u001b[0;32mreturn\u001b[0m \u001b[0mfunc\u001b[0m\u001b[0;34m(\u001b[0m\u001b[0;34m*\u001b[0m\u001b[0margs\u001b[0m\u001b[0;34m,\u001b[0m \u001b[0;34m**\u001b[0m\u001b[0mkwargs\u001b[0m\u001b[0;34m)\u001b[0m\u001b[0;34m\u001b[0m\u001b[0;34m\u001b[0m\u001b[0m\n\u001b[0m\u001b[1;32m    332\u001b[0m \u001b[0;34m\u001b[0m\u001b[0m\n\u001b[1;32m    333\u001b[0m         \u001b[0;31m# error: \"Callable[[VarArg(Any), KwArg(Any)], Any]\" has no\u001b[0m\u001b[0;34m\u001b[0m\u001b[0;34m\u001b[0m\u001b[0m\n",
            "\u001b[0;32m/usr/local/lib/python3.10/dist-packages/pandas/io/parsers/readers.py\u001b[0m in \u001b[0;36mread_csv\u001b[0;34m(filepath_or_buffer, sep, delimiter, header, names, index_col, usecols, squeeze, prefix, mangle_dupe_cols, dtype, engine, converters, true_values, false_values, skipinitialspace, skiprows, skipfooter, nrows, na_values, keep_default_na, na_filter, verbose, skip_blank_lines, parse_dates, infer_datetime_format, keep_date_col, date_parser, dayfirst, cache_dates, iterator, chunksize, compression, thousands, decimal, lineterminator, quotechar, quoting, doublequote, escapechar, comment, encoding, encoding_errors, dialect, error_bad_lines, warn_bad_lines, on_bad_lines, delim_whitespace, low_memory, memory_map, float_precision, storage_options)\u001b[0m\n\u001b[1;32m    948\u001b[0m     \u001b[0mkwds\u001b[0m\u001b[0;34m.\u001b[0m\u001b[0mupdate\u001b[0m\u001b[0;34m(\u001b[0m\u001b[0mkwds_defaults\u001b[0m\u001b[0;34m)\u001b[0m\u001b[0;34m\u001b[0m\u001b[0;34m\u001b[0m\u001b[0m\n\u001b[1;32m    949\u001b[0m \u001b[0;34m\u001b[0m\u001b[0m\n\u001b[0;32m--> 950\u001b[0;31m     \u001b[0;32mreturn\u001b[0m \u001b[0m_read\u001b[0m\u001b[0;34m(\u001b[0m\u001b[0mfilepath_or_buffer\u001b[0m\u001b[0;34m,\u001b[0m \u001b[0mkwds\u001b[0m\u001b[0;34m)\u001b[0m\u001b[0;34m\u001b[0m\u001b[0;34m\u001b[0m\u001b[0m\n\u001b[0m\u001b[1;32m    951\u001b[0m \u001b[0;34m\u001b[0m\u001b[0m\n\u001b[1;32m    952\u001b[0m \u001b[0;34m\u001b[0m\u001b[0m\n",
            "\u001b[0;32m/usr/local/lib/python3.10/dist-packages/pandas/io/parsers/readers.py\u001b[0m in \u001b[0;36m_read\u001b[0;34m(filepath_or_buffer, kwds)\u001b[0m\n\u001b[1;32m    603\u001b[0m \u001b[0;34m\u001b[0m\u001b[0m\n\u001b[1;32m    604\u001b[0m     \u001b[0;31m# Create the parser.\u001b[0m\u001b[0;34m\u001b[0m\u001b[0;34m\u001b[0m\u001b[0m\n\u001b[0;32m--> 605\u001b[0;31m     \u001b[0mparser\u001b[0m \u001b[0;34m=\u001b[0m \u001b[0mTextFileReader\u001b[0m\u001b[0;34m(\u001b[0m\u001b[0mfilepath_or_buffer\u001b[0m\u001b[0;34m,\u001b[0m \u001b[0;34m**\u001b[0m\u001b[0mkwds\u001b[0m\u001b[0;34m)\u001b[0m\u001b[0;34m\u001b[0m\u001b[0;34m\u001b[0m\u001b[0m\n\u001b[0m\u001b[1;32m    606\u001b[0m \u001b[0;34m\u001b[0m\u001b[0m\n\u001b[1;32m    607\u001b[0m     \u001b[0;32mif\u001b[0m \u001b[0mchunksize\u001b[0m \u001b[0;32mor\u001b[0m \u001b[0miterator\u001b[0m\u001b[0;34m:\u001b[0m\u001b[0;34m\u001b[0m\u001b[0;34m\u001b[0m\u001b[0m\n",
            "\u001b[0;32m/usr/local/lib/python3.10/dist-packages/pandas/io/parsers/readers.py\u001b[0m in \u001b[0;36m__init__\u001b[0;34m(self, f, engine, **kwds)\u001b[0m\n\u001b[1;32m   1440\u001b[0m \u001b[0;34m\u001b[0m\u001b[0m\n\u001b[1;32m   1441\u001b[0m         \u001b[0mself\u001b[0m\u001b[0;34m.\u001b[0m\u001b[0mhandles\u001b[0m\u001b[0;34m:\u001b[0m \u001b[0mIOHandles\u001b[0m \u001b[0;34m|\u001b[0m \u001b[0;32mNone\u001b[0m \u001b[0;34m=\u001b[0m \u001b[0;32mNone\u001b[0m\u001b[0;34m\u001b[0m\u001b[0;34m\u001b[0m\u001b[0m\n\u001b[0;32m-> 1442\u001b[0;31m         \u001b[0mself\u001b[0m\u001b[0;34m.\u001b[0m\u001b[0m_engine\u001b[0m \u001b[0;34m=\u001b[0m \u001b[0mself\u001b[0m\u001b[0;34m.\u001b[0m\u001b[0m_make_engine\u001b[0m\u001b[0;34m(\u001b[0m\u001b[0mf\u001b[0m\u001b[0;34m,\u001b[0m \u001b[0mself\u001b[0m\u001b[0;34m.\u001b[0m\u001b[0mengine\u001b[0m\u001b[0;34m)\u001b[0m\u001b[0;34m\u001b[0m\u001b[0;34m\u001b[0m\u001b[0m\n\u001b[0m\u001b[1;32m   1443\u001b[0m \u001b[0;34m\u001b[0m\u001b[0m\n\u001b[1;32m   1444\u001b[0m     \u001b[0;32mdef\u001b[0m \u001b[0mclose\u001b[0m\u001b[0;34m(\u001b[0m\u001b[0mself\u001b[0m\u001b[0;34m)\u001b[0m \u001b[0;34m->\u001b[0m \u001b[0;32mNone\u001b[0m\u001b[0;34m:\u001b[0m\u001b[0;34m\u001b[0m\u001b[0;34m\u001b[0m\u001b[0m\n",
            "\u001b[0;32m/usr/local/lib/python3.10/dist-packages/pandas/io/parsers/readers.py\u001b[0m in \u001b[0;36m_make_engine\u001b[0;34m(self, f, engine)\u001b[0m\n\u001b[1;32m   1733\u001b[0m                 \u001b[0;32mif\u001b[0m \u001b[0;34m\"b\"\u001b[0m \u001b[0;32mnot\u001b[0m \u001b[0;32min\u001b[0m \u001b[0mmode\u001b[0m\u001b[0;34m:\u001b[0m\u001b[0;34m\u001b[0m\u001b[0;34m\u001b[0m\u001b[0m\n\u001b[1;32m   1734\u001b[0m                     \u001b[0mmode\u001b[0m \u001b[0;34m+=\u001b[0m \u001b[0;34m\"b\"\u001b[0m\u001b[0;34m\u001b[0m\u001b[0;34m\u001b[0m\u001b[0m\n\u001b[0;32m-> 1735\u001b[0;31m             self.handles = get_handle(\n\u001b[0m\u001b[1;32m   1736\u001b[0m                 \u001b[0mf\u001b[0m\u001b[0;34m,\u001b[0m\u001b[0;34m\u001b[0m\u001b[0;34m\u001b[0m\u001b[0m\n\u001b[1;32m   1737\u001b[0m                 \u001b[0mmode\u001b[0m\u001b[0;34m,\u001b[0m\u001b[0;34m\u001b[0m\u001b[0;34m\u001b[0m\u001b[0m\n",
            "\u001b[0;32m/usr/local/lib/python3.10/dist-packages/pandas/io/common.py\u001b[0m in \u001b[0;36mget_handle\u001b[0;34m(path_or_buf, mode, encoding, compression, memory_map, is_text, errors, storage_options)\u001b[0m\n\u001b[1;32m    854\u001b[0m         \u001b[0;32mif\u001b[0m \u001b[0mioargs\u001b[0m\u001b[0;34m.\u001b[0m\u001b[0mencoding\u001b[0m \u001b[0;32mand\u001b[0m \u001b[0;34m\"b\"\u001b[0m \u001b[0;32mnot\u001b[0m \u001b[0;32min\u001b[0m \u001b[0mioargs\u001b[0m\u001b[0;34m.\u001b[0m\u001b[0mmode\u001b[0m\u001b[0;34m:\u001b[0m\u001b[0;34m\u001b[0m\u001b[0;34m\u001b[0m\u001b[0m\n\u001b[1;32m    855\u001b[0m             \u001b[0;31m# Encoding\u001b[0m\u001b[0;34m\u001b[0m\u001b[0;34m\u001b[0m\u001b[0m\n\u001b[0;32m--> 856\u001b[0;31m             handle = open(\n\u001b[0m\u001b[1;32m    857\u001b[0m                 \u001b[0mhandle\u001b[0m\u001b[0;34m,\u001b[0m\u001b[0;34m\u001b[0m\u001b[0;34m\u001b[0m\u001b[0m\n\u001b[1;32m    858\u001b[0m                 \u001b[0mioargs\u001b[0m\u001b[0;34m.\u001b[0m\u001b[0mmode\u001b[0m\u001b[0;34m,\u001b[0m\u001b[0;34m\u001b[0m\u001b[0;34m\u001b[0m\u001b[0m\n",
            "\u001b[0;31mFileNotFoundError\u001b[0m: [Errno 2] No such file or directory: '../input/titanic/train.csv'"
          ]
        }
      ]
    },
    {
      "cell_type": "markdown",
      "metadata": {
        "id": "_MKVzGQ2KgT8"
      },
      "source": [
        "* ## Holes in the data should be filled, and not relatable datas should be eliminated.  \n",
        "* ## Training datas be understandable for the computer, meaning datas should be integers."
      ]
    },
    {
      "cell_type": "code",
      "metadata": {
        "execution": {
          "iopub.status.busy": "2021-07-25T14:23:52.694412Z",
          "iopub.execute_input": "2021-07-25T14:23:52.694702Z",
          "iopub.status.idle": "2021-07-25T14:23:52.717556Z",
          "shell.execute_reply.started": "2021-07-25T14:23:52.694672Z",
          "shell.execute_reply": "2021-07-25T14:23:52.716812Z"
        },
        "trusted": true,
        "id": "QkWoAegqKgT8"
      },
      "source": [
        "#viewing the missing data\n",
        "total = train_df.isnull().sum().sort_values(ascending=False)\n",
        "percent_1 = train_df.isnull().sum()/train_df.isnull().count()*100\n",
        "percent_2 = (round(percent_1, 1)).sort_values(ascending=False)\n",
        "missing_data = pd.concat([total, percent_2], axis=1, keys=['Total', '%'])\n",
        "missing_data.head(5)"
      ],
      "execution_count": null,
      "outputs": []
    },
    {
      "cell_type": "markdown",
      "metadata": {
        "id": "UTu2my0QKgT8"
      },
      "source": [
        "\n",
        "### PassengerId shall be eliminated due to its lack of connection with survival  \n",
        "### Ticket has too many different values so it shall be elimintaed as well  \n",
        "### Even though age has lots of missing values, its strong relationship with survival can be seen from the table2    \n",
        "### We already have sex feature, so name feature isn't needed too"
      ]
    },
    {
      "cell_type": "code",
      "metadata": {
        "execution": {
          "iopub.status.busy": "2021-07-25T14:23:52.719437Z",
          "iopub.execute_input": "2021-07-25T14:23:52.719757Z",
          "iopub.status.idle": "2021-07-25T14:23:52.752304Z",
          "shell.execute_reply.started": "2021-07-25T14:23:52.719727Z",
          "shell.execute_reply": "2021-07-25T14:23:52.751317Z"
        },
        "trusted": true,
        "id": "JBAVxhE-KgT9"
      },
      "source": [
        "#dropping the unnecessary data\n",
        "train_df = train_df.drop(['PassengerId'], axis=1)\n",
        "train_df = train_df.drop(['Ticket'], axis=1)\n",
        "test_df = test_df.drop(['Ticket'], axis=1)\n",
        "train_df = train_df.drop(['Name'], axis=1)\n",
        "test_df = test_df.drop(['Name'], axis=1)\n",
        "print(train_df.info())\n",
        "print(test_df.info())"
      ],
      "execution_count": null,
      "outputs": []
    },
    {
      "cell_type": "markdown",
      "metadata": {
        "id": "Ka3nx-CDKgT9"
      },
      "source": [
        "### Although cabin has got so many missing values, cabin numbers look like ‘C123’ and the letter refers to the deck.   \n",
        "### Thus cabin feature shall be dropped after being converted into deck feature. Missing values shall be turned into 0.\n"
      ]
    },
    {
      "cell_type": "code",
      "metadata": {
        "execution": {
          "iopub.status.busy": "2021-07-25T14:23:52.753651Z",
          "iopub.execute_input": "2021-07-25T14:23:52.754156Z",
          "iopub.status.idle": "2021-07-25T14:23:52.776045Z",
          "shell.execute_reply.started": "2021-07-25T14:23:52.754107Z",
          "shell.execute_reply": "2021-07-25T14:23:52.774603Z"
        },
        "trusted": true,
        "id": "3KWF21a7KgT-"
      },
      "source": [
        "#\n",
        "import re\n",
        "deck = {\"A\": 1, \"B\": 2, \"C\": 3, \"D\": 4, \"E\": 5, \"F\": 6, \"G\": 7, \"U\": 8}\n",
        "data = [train_df, test_df]\n",
        "\n",
        "for dataset in data:\n",
        "    dataset['Cabin'] = dataset['Cabin'].fillna(\"U0\")\n",
        "    dataset['Deck'] = dataset['Cabin'].map(lambda x: re.compile(\"([a-zA-Z]+)\").search(x).group())\n",
        "    dataset['Deck'] = dataset['Deck'].map(deck)\n",
        "    dataset['Deck'] = dataset['Deck'].fillna(0)\n",
        "    dataset['Deck'] = dataset['Deck'].astype(int)\n",
        "#dropping the cabin feature\n",
        "train_df = train_df.drop(['Cabin'], axis=1)\n",
        "test_df = test_df.drop(['Cabin'], axis=1)"
      ],
      "execution_count": null,
      "outputs": []
    },
    {
      "cell_type": "code",
      "metadata": {
        "execution": {
          "iopub.status.busy": "2021-07-25T14:23:52.777626Z",
          "iopub.execute_input": "2021-07-25T14:23:52.778147Z",
          "iopub.status.idle": "2021-07-25T14:23:52.798322Z",
          "shell.execute_reply.started": "2021-07-25T14:23:52.778096Z",
          "shell.execute_reply": "2021-07-25T14:23:52.797017Z"
        },
        "trusted": true,
        "id": "LzX5hnXWKgT-"
      },
      "source": [
        "#filling the holes in age by random average values\n",
        "data = [train_df, test_df]\n",
        "\n",
        "for dataset in data:\n",
        "    mean = train_df[\"Age\"].mean()\n",
        "    std = test_df[\"Age\"].std()\n",
        "    is_null = dataset[\"Age\"].isnull().sum()\n",
        "    # compute random numbers between the mean, std and is_null\n",
        "    rand_age = np.random.randint(mean - std, mean + std, size = is_null)\n",
        "    # fill NaN values in Age column with random values generated\n",
        "    age_slice = dataset[\"Age\"].copy()\n",
        "    age_slice[np.isnan(age_slice)] = rand_age\n",
        "    dataset[\"Age\"] = age_slice\n",
        "    dataset[\"Age\"] = train_df[\"Age\"].astype(int)"
      ],
      "execution_count": null,
      "outputs": []
    },
    {
      "cell_type": "code",
      "metadata": {
        "execution": {
          "iopub.status.busy": "2021-07-25T14:23:52.799964Z",
          "iopub.execute_input": "2021-07-25T14:23:52.800762Z",
          "iopub.status.idle": "2021-07-25T14:23:52.808136Z",
          "shell.execute_reply.started": "2021-07-25T14:23:52.800697Z",
          "shell.execute_reply": "2021-07-25T14:23:52.807119Z"
        },
        "trusted": true,
        "id": "alF47r7lKgT-"
      },
      "source": [
        "#filling the only couple of embarked missing value with the most common one\n",
        "common_value = 'S'\n",
        "data = [train_df, test_df]\n",
        "\n",
        "for dataset in data:\n",
        "    dataset['Embarked'] = dataset['Embarked'].fillna(common_value)"
      ],
      "execution_count": null,
      "outputs": []
    },
    {
      "cell_type": "code",
      "metadata": {
        "execution": {
          "iopub.status.busy": "2021-07-25T14:23:52.81185Z",
          "iopub.execute_input": "2021-07-25T14:23:52.812261Z",
          "iopub.status.idle": "2021-07-25T14:23:52.820552Z",
          "shell.execute_reply.started": "2021-07-25T14:23:52.812218Z",
          "shell.execute_reply": "2021-07-25T14:23:52.819817Z"
        },
        "trusted": true,
        "id": "TBWaw9BhKgT_"
      },
      "source": [
        "#changing the float values of fare to int\n",
        "for dataset in data:\n",
        "    dataset['Fare'] = dataset['Fare'].fillna(0)\n",
        "    dataset['Fare'] = dataset['Fare'].astype(int)"
      ],
      "execution_count": null,
      "outputs": []
    },
    {
      "cell_type": "code",
      "metadata": {
        "execution": {
          "iopub.status.busy": "2021-07-25T14:23:52.822228Z",
          "iopub.execute_input": "2021-07-25T14:23:52.822791Z",
          "iopub.status.idle": "2021-07-25T14:23:52.835988Z",
          "shell.execute_reply.started": "2021-07-25T14:23:52.822756Z",
          "shell.execute_reply": "2021-07-25T14:23:52.834743Z"
        },
        "trusted": true,
        "id": "V0Ytzl3IKgT_"
      },
      "source": [
        "#converting the sex feature into numeric\n",
        "genders = {\"male\": 0, \"female\": 1}\n",
        "data = [train_df, test_df]\n",
        "\n",
        "for dataset in data:\n",
        "    dataset['Sex'] = dataset['Sex'].map(genders)"
      ],
      "execution_count": null,
      "outputs": []
    },
    {
      "cell_type": "code",
      "metadata": {
        "execution": {
          "iopub.status.busy": "2021-07-25T14:23:52.837408Z",
          "iopub.execute_input": "2021-07-25T14:23:52.837728Z",
          "iopub.status.idle": "2021-07-25T14:23:52.851207Z",
          "shell.execute_reply.started": "2021-07-25T14:23:52.837673Z",
          "shell.execute_reply": "2021-07-25T14:23:52.850035Z"
        },
        "trusted": true,
        "id": "xHa2mfvEKgT_"
      },
      "source": [
        "#converting embarked feature into numeric as well\n",
        "ports = {\"S\": 0, \"C\": 1, \"Q\": 2}\n",
        "data = [train_df, test_df]\n",
        "\n",
        "for dataset in data:\n",
        "    dataset['Embarked'] = dataset['Embarked'].map(ports)"
      ],
      "execution_count": null,
      "outputs": []
    },
    {
      "cell_type": "code",
      "metadata": {
        "execution": {
          "iopub.status.busy": "2021-07-25T14:23:52.852736Z",
          "iopub.execute_input": "2021-07-25T14:23:52.853075Z",
          "iopub.status.idle": "2021-07-25T14:23:52.893149Z",
          "shell.execute_reply.started": "2021-07-25T14:23:52.853043Z",
          "shell.execute_reply": "2021-07-25T14:23:52.891758Z"
        },
        "trusted": true,
        "id": "KOWUXqWqKgUA"
      },
      "source": [
        "#Categorizing age feature\n",
        "data = [train_df, test_df]\n",
        "for dataset in data:\n",
        "\n",
        "    dataset.loc[ dataset['Age'] <= 5, 'Age'] = 0 #little children\n",
        "    dataset.loc[(dataset['Age'] > 5) & (dataset['Age'] <= 14), 'Age'] = 1 #elemantary school to kousen\n",
        "    dataset.loc[(dataset['Age'] > 15) & (dataset['Age'] <= 23), 'Age'] = 2 #kousen and university students\n",
        "    dataset.loc[(dataset['Age'] > 23) & (dataset['Age'] <= 27), 'Age'] = 3 #社会人\n",
        "    dataset.loc[(dataset['Age'] > 27) & (dataset['Age'] <= 33), 'Age'] = 4 #marriage\n",
        "    dataset.loc[(dataset['Age'] > 33) & (dataset['Age'] <= 40), 'Age'] = 5 #creation of children\n",
        "    dataset.loc[(dataset['Age'] > 40) & (dataset['Age'] <= 66), 'Age'] = 6 #grandparents\n",
        "    dataset.loc[ dataset['Age'] > 66, 'Age'] = 6 #waiting for death\n",
        "train_df['Age'].value_counts()"
      ],
      "execution_count": null,
      "outputs": []
    },
    {
      "cell_type": "code",
      "metadata": {
        "execution": {
          "iopub.status.busy": "2021-07-25T14:23:52.894826Z",
          "iopub.execute_input": "2021-07-25T14:23:52.895206Z",
          "iopub.status.idle": "2021-07-25T14:23:52.921989Z",
          "shell.execute_reply.started": "2021-07-25T14:23:52.89517Z",
          "shell.execute_reply": "2021-07-25T14:23:52.920904Z"
        },
        "trusted": true,
        "id": "PM2AM07UKgUA"
      },
      "source": [
        "#Categorizing Fare feature\n",
        "data = [train_df, test_df]\n",
        "\n",
        "for dataset in data:\n",
        "    dataset.loc[ dataset['Fare'] <= 7.91, 'Fare'] = 0 #poor class\n",
        "    dataset.loc[(dataset['Fare'] > 7.91) & (dataset['Fare'] <= 14.454), 'Fare'] = 1 #little poor class\n",
        "    dataset.loc[(dataset['Fare'] > 14.454) & (dataset['Fare'] <= 31), 'Fare']   = 2 #middle class\n",
        "    dataset.loc[(dataset['Fare'] > 31) & (dataset['Fare'] <= 99), 'Fare']   = 3 #rich middle class\n",
        "    dataset.loc[(dataset['Fare'] > 99) & (dataset['Fare'] <= 250), 'Fare']   = 4 #rich class\n",
        "    dataset.loc[ dataset['Fare'] > 250, 'Fare'] = 5 #millionaire++ class\n",
        "    dataset['Fare'] = dataset['Fare'].astype(int)\n",
        "train_df['Fare'].value_counts()"
      ],
      "execution_count": null,
      "outputs": []
    },
    {
      "cell_type": "code",
      "metadata": {
        "execution": {
          "iopub.status.busy": "2021-07-25T14:23:52.923482Z",
          "iopub.execute_input": "2021-07-25T14:23:52.923849Z",
          "iopub.status.idle": "2021-07-25T14:23:52.949504Z",
          "shell.execute_reply.started": "2021-07-25T14:23:52.923815Z",
          "shell.execute_reply": "2021-07-25T14:23:52.948396Z"
        },
        "trusted": true,
        "id": "aNfmiGrQKgUA"
      },
      "source": [
        "#New features: FamiMem = number of relatives on the ship\n",
        "data = [train_df, test_df]\n",
        "for dataset in data:\n",
        "\n",
        "    dataset['FamiMem'] = dataset['SibSp'] + dataset['Parch']\n",
        "dataset['FamiMem'].astype(int)\n",
        "\n",
        "train_df\n"
      ],
      "execution_count": null,
      "outputs": []
    },
    {
      "cell_type": "code",
      "metadata": {
        "execution": {
          "iopub.status.busy": "2021-07-25T14:23:52.951007Z",
          "iopub.execute_input": "2021-07-25T14:23:52.951323Z",
          "iopub.status.idle": "2021-07-25T14:23:52.963034Z",
          "shell.execute_reply.started": "2021-07-25T14:23:52.951291Z",
          "shell.execute_reply": "2021-07-25T14:23:52.961909Z"
        },
        "trusted": true,
        "id": "Q9grn1l_KgUA"
      },
      "source": [
        "X_train = train_df.drop(\"Survived\", axis=1)\n",
        "Y_train = train_df[\"Survived\"]\n",
        "X_test  = test_df.drop(\"PassengerId\", axis=1).copy()"
      ],
      "execution_count": null,
      "outputs": []
    },
    {
      "cell_type": "markdown",
      "metadata": {
        "id": "qvBw6CXAKgUA"
      },
      "source": [
        "# Random Forest Model"
      ]
    },
    {
      "cell_type": "code",
      "metadata": {
        "execution": {
          "iopub.status.busy": "2021-07-25T14:23:52.965098Z",
          "iopub.execute_input": "2021-07-25T14:23:52.965589Z",
          "iopub.status.idle": "2021-07-25T14:23:53.285111Z",
          "shell.execute_reply.started": "2021-07-25T14:23:52.965535Z",
          "shell.execute_reply": "2021-07-25T14:23:53.284028Z"
        },
        "trusted": true,
        "id": "hulf8rrlKgUB"
      },
      "source": [
        "#random_forest = RandomForestClassifier(n_estimators=100)\n",
        "#random_forest.fit(X_train, Y_train)\n",
        "\n",
        "#Y_prediction = random_forest.predict(X_test)\n",
        "\n",
        "#random_forest.score(X_train, Y_train)\n",
        "#acc_random_forest = round(random_forest.score(X_train, Y_train) * 100, 2)\n",
        "#acc_random_forest"
      ],
      "execution_count": null,
      "outputs": []
    },
    {
      "cell_type": "markdown",
      "metadata": {
        "id": "EZk1FmtWKgUB"
      },
      "source": [
        "# Decision Tree Model"
      ]
    },
    {
      "cell_type": "code",
      "metadata": {
        "execution": {
          "iopub.status.busy": "2021-07-25T14:23:53.286741Z",
          "iopub.execute_input": "2021-07-25T14:23:53.287115Z",
          "iopub.status.idle": "2021-07-25T14:23:53.291325Z",
          "shell.execute_reply.started": "2021-07-25T14:23:53.287081Z",
          "shell.execute_reply": "2021-07-25T14:23:53.290128Z"
        },
        "trusted": true,
        "id": "fyUxxIlOKgUB"
      },
      "source": [
        "#decision_tree = DecisionTreeClassifier()\n",
        "#decision_tree.fit(X_train, Y_train)\n",
        "#Y_prediction = decision_tree.predict(X_test)\n",
        "#acc_decision_tree = round(decision_tree.score(X_train, Y_train) * 100, 2)\n",
        "#acc_decision_tree"
      ],
      "execution_count": null,
      "outputs": []
    },
    {
      "cell_type": "markdown",
      "metadata": {
        "id": "i_H7xhLDKgUB"
      },
      "source": [
        "# Logistic Regression Model"
      ]
    },
    {
      "cell_type": "code",
      "metadata": {
        "execution": {
          "iopub.status.busy": "2021-07-25T14:23:53.292699Z",
          "iopub.execute_input": "2021-07-25T14:23:53.293041Z",
          "iopub.status.idle": "2021-07-25T14:23:53.306261Z",
          "shell.execute_reply.started": "2021-07-25T14:23:53.29301Z",
          "shell.execute_reply": "2021-07-25T14:23:53.305191Z"
        },
        "trusted": true,
        "id": "nEyXFUp0KgUB"
      },
      "source": [
        "logreg = LogisticRegression()\n",
        "logreg.fit(X_train, Y_train)\n",
        "\n",
        "Y_prediction = logreg.predict(X_test)\n",
        "acc_log = round(logreg.score(X_train, Y_train) * 100, 2)"
      ],
      "execution_count": null,
      "outputs": []
    },
    {
      "cell_type": "markdown",
      "metadata": {
        "id": "d79ZOFczKgUB"
      },
      "source": [
        "# Stochastic Gradient Descent"
      ]
    },
    {
      "cell_type": "code",
      "metadata": {
        "execution": {
          "iopub.status.busy": "2021-07-25T14:23:53.307863Z",
          "iopub.execute_input": "2021-07-25T14:23:53.308196Z",
          "iopub.status.idle": "2021-07-25T14:23:53.319158Z",
          "shell.execute_reply.started": "2021-07-25T14:23:53.308164Z",
          "shell.execute_reply": "2021-07-25T14:23:53.317992Z"
        },
        "trusted": true,
        "id": "VlSfglzVKgUC"
      },
      "source": [
        "#sgd = linear_model.SGDClassifier(max_iter=5, tol=None)\n",
        "#sgd.fit(X_train, Y_train)\n",
        "#Y_prediction = sgd.predict(X_test)\n",
        "\n",
        "#sgd.score(X_train, Y_train)\n",
        "\n",
        "#acc_sgd = round(sgd.score(X_train, Y_train) * 100, 2)\n",
        "#acc_sgd"
      ],
      "execution_count": null,
      "outputs": []
    },
    {
      "cell_type": "markdown",
      "metadata": {
        "id": "9VRpmWsgKgUC"
      },
      "source": [
        "### Conversion and Submission of the CSV file"
      ]
    },
    {
      "cell_type": "code",
      "metadata": {
        "execution": {
          "iopub.status.busy": "2021-07-25T14:23:53.32079Z",
          "iopub.execute_input": "2021-07-25T14:23:53.321213Z",
          "iopub.status.idle": "2021-07-25T14:23:53.348942Z",
          "shell.execute_reply.started": "2021-07-25T14:23:53.321176Z",
          "shell.execute_reply": "2021-07-25T14:23:53.347808Z"
        },
        "trusted": true,
        "id": "Eq3zCwFtKgUC"
      },
      "source": [
        "df_submission = pd.read_csv(\"../input/titanic/gender_submission.csv\")\n",
        "df_submission.drop('Survived', inplace=True, axis=1)\n",
        "\n",
        "df = pd.DataFrame(Y_prediction)\n",
        "df.columns = ['Survived']\n",
        "\n",
        "df_submission = pd.concat([df_submission, df], axis=1)\n",
        "\n",
        "df_submission.to_csv('submission.csv', index=False)\n",
        "\n",
        "df_submission\n"
      ],
      "execution_count": null,
      "outputs": []
    }
  ]
}