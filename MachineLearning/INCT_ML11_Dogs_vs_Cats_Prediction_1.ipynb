{
  "nbformat": 4,
  "nbformat_minor": 0,
  "metadata": {
    "colab": {
      "provenance": [],
      "include_colab_link": true
    },
    "kernelspec": {
      "name": "python3",
      "display_name": "Python 3"
    },
    "accelerator": "GPU"
  },
  "cells": [
    {
      "cell_type": "markdown",
      "metadata": {
        "id": "view-in-github",
        "colab_type": "text"
      },
      "source": [
        "<a href=\"https://colab.research.google.com/github/BatsaikhanTuguldur/KousenProjects/blob/main/INCT_ML11_Dogs_vs_Cats_Prediction_1.ipynb\" target=\"_parent\"><img src=\"https://colab.research.google.com/assets/colab-badge.svg\" alt=\"Open In Colab\"/></a>"
      ]
    },
    {
      "cell_type": "markdown",
      "metadata": {
        "id": "cM2-FNVd5GoF"
      },
      "source": [
        "# Chapter 8: Dogs vs Cats - Prediction\n",
        "※このファイルは香川高専（詫間キャンパス）で開催されたディープラーニング初級講座の内容を基に作成しました。\n",
        "\n",
        "Chapter 7で保存したDogs vs Catsの学習済みモデルを使って，任意の画像データに対してイヌとネコの分類をしてみましょう。"
      ]
    },
    {
      "cell_type": "markdown",
      "metadata": {
        "id": "d3pA03VB5GoG"
      },
      "source": [
        "### ライブラリのインポート\n",
        "必要なライブラリをインポートしましょう。"
      ]
    },
    {
      "cell_type": "code",
      "metadata": {
        "id": "zerbHNmj5GoH",
        "colab": {
          "base_uri": "https://localhost:8080/",
          "height": 1000
        },
        "outputId": "40c9d536-9e17-47b3-d751-3abb616526f7"
      },
      "source": [
        "import matplotlib.pyplot as plt\n",
        "import pandas as pd\n",
        "import seaborn as sns\n",
        "import numpy as np\n",
        "np.set_printoptions(precision=3, suppress=True)\n",
        "\n",
        "from tqdm import tqdm\n",
        "import os\n",
        "import random\n",
        "import cv2\n",
        "\n",
        "# バージョン指定インストール\n",
        "# h5 ファイルの読み込みにバージョン合わせが必要になったらしい。\n",
        "#https://qiita.com/Hiroki-Fujimoto/items/b078bfb680fb710c38c1\n",
        "!sudo pip3 install h5py==2.10.0\n",
        "\n",
        "# Google Colab上のTensorFlowは，もうすぐバージョン1.15から2.0に\n",
        "# アップグレードされるらしいので，引き続き1.15を使用したい場合は，\n",
        "# 次のマジックコマンドを使う。\n",
        "%tensorflow_version 1.x\n",
        "\n",
        "import tensorflow as tf\n",
        "from tensorflow.keras.models import load_model\n",
        "from tensorflow.keras.utils import plot_model\n",
        "from tensorflow.python.keras import backend as K\n",
        "\n",
        "# 念のためTensorFlowのバージョンを確認\n",
        "# 1.15.0と表示されればOK\n",
        "print(\"TensorFlow version: \" + tf.__version__)"
      ],
      "execution_count": null,
      "outputs": [
        {
          "output_type": "stream",
          "name": "stdout",
          "text": [
            "Collecting h5py==2.10.0\n",
            "  Downloading h5py-2.10.0.tar.gz (301 kB)\n",
            "\u001b[?25l     \u001b[90m━━━━━━━━━━━━━━━━━━━━━━━━━━━━━━━━━━━━━━━━\u001b[0m \u001b[32m0.0/301.1 kB\u001b[0m \u001b[31m?\u001b[0m eta \u001b[36m-:--:--\u001b[0m\r\u001b[2K     \u001b[90m━━━━━━━━━━━━━━━━━━━━━━━━━━━━━━━━━━━━━━\u001b[0m \u001b[32m301.1/301.1 kB\u001b[0m \u001b[31m10.5 MB/s\u001b[0m eta \u001b[36m0:00:00\u001b[0m\n",
            "\u001b[?25h  Preparing metadata (setup.py) ... \u001b[?25l\u001b[?25hdone\n",
            "Requirement already satisfied: numpy>=1.7 in /usr/local/lib/python3.10/dist-packages (from h5py==2.10.0) (1.22.4)\n",
            "Requirement already satisfied: six in /usr/local/lib/python3.10/dist-packages (from h5py==2.10.0) (1.16.0)\n",
            "Building wheels for collected packages: h5py\n",
            "  Building wheel for h5py (setup.py) ... \u001b[?25l\u001b[?25hcanceled\n",
            "Traceback (most recent call last):\n",
            "  File \"/usr/local/lib/python3.10/dist-packages/pip/_internal/cli/base_command.py\", line 169, in exc_logging_wrapper\n",
            "    status = run_func(*args)\n",
            "  File \"/usr/local/lib/python3.10/dist-packages/pip/_internal/cli/req_command.py\", line 242, in wrapper\n",
            "    return func(self, options, args)\n",
            "  File \"/usr/local/lib/python3.10/dist-packages/pip/_internal/commands/install.py\", line 417, in run\n",
            "    _, build_failures = build(\n",
            "  File \"/usr/local/lib/python3.10/dist-packages/pip/_internal/wheel_builder.py\", line 320, in build\n",
            "    wheel_file = _build_one(\n",
            "  File \"/usr/local/lib/python3.10/dist-packages/pip/_internal/wheel_builder.py\", line 194, in _build_one\n",
            "    wheel_path = _build_one_inside_env(\n",
            "  File \"/usr/local/lib/python3.10/dist-packages/pip/_internal/wheel_builder.py\", line 241, in _build_one_inside_env\n",
            "    wheel_path = build_wheel_legacy(\n",
            "  File \"/usr/local/lib/python3.10/dist-packages/pip/_internal/operations/build/wheel_legacy.py\", line 83, in build_wheel_legacy\n",
            "    output = call_subprocess(\n",
            "  File \"/usr/local/lib/python3.10/dist-packages/pip/_internal/utils/subprocess.py\", line 166, in call_subprocess\n",
            "    line: str = proc.stdout.readline()\n",
            "KeyboardInterrupt\n",
            "\n",
            "During handling of the above exception, another exception occurred:\n",
            "\n",
            "Traceback (most recent call last):\n",
            "  File \"/usr/local/bin/pip3\", line 8, in <module>\n",
            "    sys.exit(main())\n",
            "  File \"/usr/local/lib/python3.10/dist-packages/pip/_internal/cli/main.py\", line 79, in main\n",
            "    return command.main(cmd_args)\n",
            "  File \"/usr/local/lib/python3.10/dist-packages/pip/_internal/cli/base_command.py\", line 101, in main\n",
            "    return self._main(args)\n",
            "  File \"/usr/local/lib/python3.10/dist-packages/pip/_internal/cli/base_command.py\", line 223, in _main\n",
            "    return run(options, args)\n",
            "  File \"/usr/local/lib/python3.10/dist-packages/pip/_internal/cli/base_command.py\", line 206, in exc_logging_wrapper\n",
            "    logger.critical(\"Operation cancelled by user\")\n",
            "  File \"/usr/lib/python3.10/logging/__init__.py\", line 1524, in critical\n",
            "    self._log(CRITICAL, msg, args, **kwargs)\n",
            "  File \"/usr/lib/python3.10/logging/__init__.py\", line 1624, in _log\n",
            "    self.handle(record)\n",
            "  File \"/usr/lib/python3.10/logging/__init__.py\", line 1634, in handle\n",
            "    self.callHandlers(record)\n",
            "  File \"/usr/lib/python3.10/logging/__init__.py\", line 1696, in callHandlers\n",
            "    hdlr.handle(record)\n",
            "  File \"/usr/lib/python3.10/logging/__init__.py\", line 968, in handle\n",
            "    self.emit(record)\n",
            "  File \"/usr/local/lib/python3.10/dist-packages/pip/_internal/utils/logging.py\", line 177, in emit\n",
            "    self.console.print(renderable, overflow=\"ignore\", crop=False, style=style)\n",
            "  File \"/usr/local/lib/python3.10/dist-packages/pip/_vendor/rich/console.py\", line 1701, in print\n",
            "    extend(\n",
            "  File \"/usr/local/lib/python3.10/dist-packages/pip/_vendor/rich/segment.py\", line 198, in <genexpr>\n",
            "    result_segments = (\n",
            "  File \"/usr/local/lib/python3.10/dist-packages/pip/_vendor/rich/console.py\", line 1330, in render\n",
            "    for render_output in iter_render:\n",
            "  File \"/usr/local/lib/python3.10/dist-packages/pip/_vendor/rich/text.py\", line 654, in __rich_console__\n",
            "    lines = self.wrap(\n",
            "  File \"/usr/local/lib/python3.10/dist-packages/pip/_vendor/rich/text.py\", line 1186, in wrap\n",
            "    line.rstrip_end(width)\n",
            "  File \"/usr/local/lib/python3.10/dist-packages/pip/_vendor/rich/text.py\", line 623, in rstrip_end\n",
            "    def rstrip_end(self, size: int) -> None:\n",
            "KeyboardInterrupt\n",
            "^C\n"
          ]
        },
        {
          "output_type": "error",
          "ename": "ValueError",
          "evalue": "ignored",
          "traceback": [
            "\u001b[0;31m---------------------------------------------------------------------------\u001b[0m",
            "\u001b[0;31mValueError\u001b[0m                                Traceback (most recent call last)",
            "\u001b[0;32m<ipython-input-1-47a46f8a839a>\u001b[0m in \u001b[0;36m<cell line: 20>\u001b[0;34m()\u001b[0m\n\u001b[1;32m     18\u001b[0m \u001b[0;31m# アップグレードされるらしいので，引き続き1.15を使用したい場合は，\u001b[0m\u001b[0;34m\u001b[0m\u001b[0;34m\u001b[0m\u001b[0m\n\u001b[1;32m     19\u001b[0m \u001b[0;31m# 次のマジックコマンドを使う。\u001b[0m\u001b[0;34m\u001b[0m\u001b[0;34m\u001b[0m\u001b[0m\n\u001b[0;32m---> 20\u001b[0;31m \u001b[0mget_ipython\u001b[0m\u001b[0;34m(\u001b[0m\u001b[0;34m)\u001b[0m\u001b[0;34m.\u001b[0m\u001b[0mrun_line_magic\u001b[0m\u001b[0;34m(\u001b[0m\u001b[0;34m'tensorflow_version'\u001b[0m\u001b[0;34m,\u001b[0m \u001b[0;34m'1.x'\u001b[0m\u001b[0;34m)\u001b[0m\u001b[0;34m\u001b[0m\u001b[0;34m\u001b[0m\u001b[0m\n\u001b[0m\u001b[1;32m     21\u001b[0m \u001b[0;34m\u001b[0m\u001b[0m\n\u001b[1;32m     22\u001b[0m \u001b[0;32mimport\u001b[0m \u001b[0mtensorflow\u001b[0m \u001b[0;32mas\u001b[0m \u001b[0mtf\u001b[0m\u001b[0;34m\u001b[0m\u001b[0;34m\u001b[0m\u001b[0m\n",
            "\u001b[0;32m/usr/local/lib/python3.10/dist-packages/IPython/core/interactiveshell.py\u001b[0m in \u001b[0;36mrun_line_magic\u001b[0;34m(self, magic_name, line, _stack_depth)\u001b[0m\n\u001b[1;32m   2416\u001b[0m                 \u001b[0mkwargs\u001b[0m\u001b[0;34m[\u001b[0m\u001b[0;34m'local_ns'\u001b[0m\u001b[0;34m]\u001b[0m \u001b[0;34m=\u001b[0m \u001b[0mself\u001b[0m\u001b[0;34m.\u001b[0m\u001b[0mget_local_scope\u001b[0m\u001b[0;34m(\u001b[0m\u001b[0mstack_depth\u001b[0m\u001b[0;34m)\u001b[0m\u001b[0;34m\u001b[0m\u001b[0;34m\u001b[0m\u001b[0m\n\u001b[1;32m   2417\u001b[0m             \u001b[0;32mwith\u001b[0m \u001b[0mself\u001b[0m\u001b[0;34m.\u001b[0m\u001b[0mbuiltin_trap\u001b[0m\u001b[0;34m:\u001b[0m\u001b[0;34m\u001b[0m\u001b[0;34m\u001b[0m\u001b[0m\n\u001b[0;32m-> 2418\u001b[0;31m                 \u001b[0mresult\u001b[0m \u001b[0;34m=\u001b[0m \u001b[0mfn\u001b[0m\u001b[0;34m(\u001b[0m\u001b[0;34m*\u001b[0m\u001b[0margs\u001b[0m\u001b[0;34m,\u001b[0m \u001b[0;34m**\u001b[0m\u001b[0mkwargs\u001b[0m\u001b[0;34m)\u001b[0m\u001b[0;34m\u001b[0m\u001b[0;34m\u001b[0m\u001b[0m\n\u001b[0m\u001b[1;32m   2419\u001b[0m             \u001b[0;32mreturn\u001b[0m \u001b[0mresult\u001b[0m\u001b[0;34m\u001b[0m\u001b[0;34m\u001b[0m\u001b[0m\n\u001b[1;32m   2420\u001b[0m \u001b[0;34m\u001b[0m\u001b[0m\n",
            "\u001b[0;32m/usr/local/lib/python3.10/dist-packages/google/colab/_tensorflow_magics.py\u001b[0m in \u001b[0;36m_tensorflow_version\u001b[0;34m(line)\u001b[0m\n\u001b[1;32m     33\u001b[0m \u001b[0;34m\u001b[0m\u001b[0m\n\u001b[1;32m     34\u001b[0m   \u001b[0;32mif\u001b[0m \u001b[0mline\u001b[0m\u001b[0;34m.\u001b[0m\u001b[0mstartswith\u001b[0m\u001b[0;34m(\u001b[0m\u001b[0;34m\"1\"\u001b[0m\u001b[0;34m)\u001b[0m\u001b[0;34m:\u001b[0m\u001b[0;34m\u001b[0m\u001b[0;34m\u001b[0m\u001b[0m\n\u001b[0;32m---> 35\u001b[0;31m     raise ValueError(\n\u001b[0m\u001b[1;32m     36\u001b[0m         \u001b[0;31m# pylint: disable=line-too-long\u001b[0m\u001b[0;34m\u001b[0m\u001b[0;34m\u001b[0m\u001b[0m\n\u001b[1;32m     37\u001b[0m         textwrap.dedent(\n",
            "\u001b[0;31mValueError\u001b[0m: Tensorflow 1 is unsupported in Colab.\n\nYour notebook should be updated to use Tensorflow 2.\nSee the guide at https://www.tensorflow.org/guide/migrate#migrate-from-tensorflow-1x-to-tensorflow-2."
          ]
        }
      ]
    },
    {
      "cell_type": "markdown",
      "metadata": {
        "id": "UzTURP2MU8md"
      },
      "source": [
        "### Googleドライブのマウント\n",
        "いつものようにGoogleドライブをマウントし，ファイルにアクセスできるようにしてください。"
      ]
    },
    {
      "cell_type": "code",
      "metadata": {
        "id": "f76jlxXek821"
      },
      "source": [
        "from google.colab import drive\n",
        "drive.mount('/content/drive')"
      ],
      "execution_count": null,
      "outputs": []
    },
    {
      "cell_type": "markdown",
      "metadata": {
        "id": "NmqdtpRlQXao"
      },
      "source": [
        "### 学習済みモデルの読み込み\n",
        "Chapter 7で保存した学習済みモデル```dogs_vs_cats_model.h5```を読み込みます。"
      ]
    },
    {
      "cell_type": "code",
      "metadata": {
        "id": "pAdyHRQOLKf7"
      },
      "source": [
        "# 学習済みモデルのパスを指定\n",
        "path = '/content/drive/MyDrive/智治先生の授業.h5'\n",
        "\n",
        "# モデルを読み込み\n",
        "#model = load_model(path)\n",
        "model = tf.keras.models.load_model(path)\n",
        "\n",
        "# 読み込んだモデルを可視化して確認\n",
        "plot_model(model, show_shapes=True)"
      ],
      "execution_count": null,
      "outputs": []
    },
    {
      "cell_type": "markdown",
      "metadata": {
        "id": "OuMVPpVFAxNm"
      },
      "source": [
        "別の方法でも読み込んだモデルを確認しておきましょう。"
      ]
    },
    {
      "cell_type": "code",
      "metadata": {
        "id": "vldSCeAvAwNU"
      },
      "source": [
        "# モデルを別の方法で可視化して確認\n",
        "model.summary()"
      ],
      "execution_count": null,
      "outputs": []
    },
    {
      "cell_type": "markdown",
      "metadata": {
        "id": "-WdJBvmVUwbm"
      },
      "source": [
        "### 判別したい画像の読み込み\n",
        "イヌ・ネコの判別をしたい任意の画像を読み込みます。"
      ]
    },
    {
      "cell_type": "code",
      "metadata": {
        "id": "YDQZfKLFBN14"
      },
      "source": [
        "# 画像ファイルのパスを指定\n",
        "path = \"/content/drive/MyDrive/智治先生の授業/dog_1.jpg\"\n",
        "#path = \"/content/drive/My Drive/INCT-ML/cat.jpg\"\n",
        "filename = os.path.basename(path)\n",
        "\n",
        "# 画像の読み込みと表示\n",
        "img = cv2.imread(path)\n",
        "img = cv2.cvtColor(img, cv2.COLOR_BGR2RGB)\n",
        "plt.imshow(img)\n",
        "plt.axis(\"off\")\n",
        "title = \"{}\\n{}\".format(filename, img.shape)\n",
        "plt.title(title)"
      ],
      "execution_count": null,
      "outputs": []
    },
    {
      "cell_type": "markdown",
      "metadata": {
        "id": "TH5H0Y9RCGJy"
      },
      "source": [
        "### 読み込んだ画像のフォーマットを変更\n",
        "学習済みモデルに入力できるように読み込んだ画像のサイズ等を変更します。"
      ]
    },
    {
      "cell_type": "code",
      "metadata": {
        "id": "YaV_nzroCZQc"
      },
      "source": [
        "# モデルに合うようにnewsizeを設定\n",
        "# Chapter 7でtrainXを生成したときに自分が設定したサイズと同じ\n",
        "# である必要がある。もう一度手動で指定しても良いが，次のコードなら\n",
        "# 読み込んだモデルから適切なサイズを自動的に設定できる\n",
        "newsize = model.layers[0].input_shape[1:3]\n",
        "print(\"newsize=\", newsize)\n",
        "\n",
        "# 画像サイズを変更\n",
        "img_modified = cv2.resize(img, newsize)\n",
        "\n",
        "# ピクセル値の最大値が1.0になるように規格化\n",
        "img_modified = img_modified/255.0\n",
        "\n",
        "# 表示して確認\n",
        "plt.imshow(img_modified)\n",
        "plt.title(img_modified.shape)\n",
        "plt.axis(\"off\")"
      ],
      "execution_count": null,
      "outputs": []
    },
    {
      "cell_type": "markdown",
      "metadata": {
        "id": "12hMREAjE2sE"
      },
      "source": [
        "### 入力データの生成\n",
        "モデルの入力サイズに合うように入力データの次元を変更します。"
      ]
    },
    {
      "cell_type": "code",
      "metadata": {
        "id": "QNqW5HOnEqPu"
      },
      "source": [
        "input_data = np.expand_dims(img_modified, 0)\n",
        "input_data.shape"
      ],
      "execution_count": null,
      "outputs": []
    },
    {
      "cell_type": "markdown",
      "metadata": {
        "id": "P0ZuKBJuE9hA"
      },
      "source": [
        "### 推論\n",
        "入力データに対してイヌかネコか判別します。"
      ]
    },
    {
      "cell_type": "code",
      "metadata": {
        "id": "qdXwcDXvFDOb"
      },
      "source": [
        "pred = model.predict(input_data)\n",
        "score = pred[0]\n",
        "\n",
        "print(\"cat={:.2f}, dog={:.2f}\".format(score[0], score[1]))"
      ],
      "execution_count": null,
      "outputs": []
    },
    {
      "cell_type": "markdown",
      "metadata": {
        "id": "TxRsIMK_ROcL"
      },
      "source": [
        "## ヒートマップ\n",
        "ヒートマップ（正確にはGrad-CAM)と言う技術を使うと，モデルがどこをみてイヌ・ネコを判断したのかを知ることができます。詳しい説明はしませんが，とりあえず使ってみましょう。\n",
        "\n",
        "* **Grad-CAM** https://arxiv.org/pdf/1610.02391.pdf"
      ]
    },
    {
      "cell_type": "markdown",
      "metadata": {
        "id": "L9ZFcKAUQn0W"
      },
      "source": [
        "モデルの中で一番最後にある畳み込み層(Conv2D)の名前を指定してください。\n",
        "\n",
        "※最後の畳み込み層の名前は個人ごとに違います！"
      ]
    },
    {
      "cell_type": "code",
      "metadata": {
        "id": "qyvxEhRAMlsi"
      },
      "source": [
        "# モデルを可視化して確認\n",
        "model.summary()"
      ],
      "execution_count": null,
      "outputs": []
    },
    {
      "cell_type": "code",
      "metadata": {
        "id": "6HviAk_jQmab"
      },
      "source": [
        "# 最後のconvalutional layerを指定\n",
        "last_conv_layer = model.get_layer('conv2d_23')"
      ],
      "execution_count": null,
      "outputs": []
    },
    {
      "cell_type": "markdown",
      "metadata": {
        "id": "OWFcqSOlQlO_"
      },
      "source": [
        "次のセルを実行するとヒートマップが生成されます。\n",
        "\n",
        "※ヒートマップ作成のプログラムを理解する必要はありません。出力されたヒートマップが何を示しているのかを理解してください。"
      ]
    },
    {
      "cell_type": "code",
      "metadata": {
        "id": "oJVOcdZQLLrd"
      },
      "source": [
        "N = np.argmax(pred)\n",
        "model_output = model.output[:,N]\n",
        "\n",
        "grads = K.gradients(model_output, last_conv_layer.output)[0]\n",
        "pooled_grads = K.mean(grads, axis =(0,1,2))\n",
        "\n",
        "iterate = K.function([model.input], [pooled_grads, last_conv_layer.output[0]])\n",
        "\n",
        "pooled_grads_val, conv_output_val = iterate([input_data])\n",
        "\n",
        "print(conv_output_val.shape)     # (15, 15, 128)\n",
        "print(pooled_grads_val.shape)    # (128, )\n",
        "\n",
        "for i in range(pooled_grads_val.shape[0]):\n",
        "    conv_output_val[:, :, i] *= pooled_grads_val[i]\n",
        "\n",
        "\n",
        "\n",
        "# ヒートマップの生成\n",
        "heatmap = np.mean(conv_output_val, axis = -1)\n",
        "\n",
        "# ヒートマップの後処理\n",
        "heatmap = np.maximum(heatmap, 0)\n",
        "heatmap = heatmap/heatmap.max()\n",
        "\n",
        "# 元の画像と同じサイズになるようにヒートマップのサイズを変更\n",
        "heatmap = cv2.resize(heatmap, (img.shape[1], img.shape[0]))\n",
        "\n",
        "# ヒートマップをRGBに変換\n",
        "heatmap = np.uint8(255 * heatmap)\n",
        "# JETのカラーマップを適用\n",
        "heatmap = cv2.applyColorMap(heatmap, cv2.COLORMAP_JET)\n",
        "# RGBに変換\n",
        "heatmap = cv2.cvtColor(heatmap, cv2.COLOR_BGR2RGB)\n",
        "\n",
        "plt.imshow(heatmap, 'jet')\n",
        "plt.colorbar()\n",
        "\n"
      ],
      "execution_count": null,
      "outputs": []
    },
    {
      "cell_type": "markdown",
      "metadata": {
        "id": "0PIHmdJHRHN-"
      },
      "source": [
        "ヒートマップを元の画像に重ねて表示してみましょう。"
      ]
    },
    {
      "cell_type": "code",
      "metadata": {
        "id": "RTDxUBj0PZ6C"
      },
      "source": [
        "# ヒートマップと元の画像を重ねる\n",
        "# 0.4はヒートマップの強度係数\n",
        "superimposed_img = heatmap*0.4 + img\n",
        "superimposed_img = superimposed_img/np.max(superimposed_img)\n",
        "\n",
        "# 画像を表示\n",
        "plt.imshow(superimposed_img)"
      ],
      "execution_count": null,
      "outputs": []
    }
  ]
}